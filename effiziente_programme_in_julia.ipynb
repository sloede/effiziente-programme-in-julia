{
 "cells": [
  {
   "cell_type": "markdown",
   "metadata": {},
   "source": [
    "# Effiziente Programme in Julia"
   ]
  },
  {
   "cell_type": "markdown",
   "metadata": {},
   "source": [
    "Dieses Jupyter Notebook zeigt anhand einfacher Beispiele, wie mögliche Performance-Probleme in Julia identifiziert und behoben werden können. Um eine sogenannte Zelle in diesem Notebook auszuführen, muss sie zunächst ausgewählt werden (z.B. mit der Maus oder den Pfeiltasten) und kann dann mit `Shift-Enter` gestartet werden.\n",
    "\n",
    "Beim ersten Mal sollten alle Zellen der Reihe nach ausgeführt werden, da manche Zellen auf Ergebnissen aus vorherigen Zellen aufbauen. Später ist es jedoch möglich - und erwünscht! - selber ein wenig auszuprobieren und den Code ggf. auch zu verändern."
   ]
  },
  {
   "cell_type": "markdown",
   "metadata": {},
   "source": [
    "## Performance-Messung mit `@time` und `@benchmark`"
   ]
  },
  {
   "cell_type": "markdown",
   "metadata": {},
   "source": [
    "Das erste Beispiel behandelt die Funktion `intlog2`, die zu einem Eingabewert den ganzzahligen Logarithmus zur Basis zwei bestimmt. Zunächst werden hier Laufzeitmessungen mit den Makros `@time` und `@benchmark` durchgeführt."
   ]
  },
  {
   "cell_type": "code",
   "execution_count": null,
   "metadata": {},
   "outputs": [],
   "source": [
    "function intlog2(n)\n",
    "    r = 0\n",
    "    while n > 1\n",
    "        r += 1\n",
    "        n = n/2\n",
    "    end\n",
    "    return r\n",
    "end"
   ]
  },
  {
   "cell_type": "code",
   "execution_count": null,
   "metadata": {},
   "outputs": [],
   "source": [
    "@time intlog2(1_000_000)"
   ]
  },
  {
   "cell_type": "code",
   "execution_count": null,
   "metadata": {},
   "outputs": [],
   "source": [
    "using BenchmarkTools"
   ]
  },
  {
   "cell_type": "code",
   "execution_count": null,
   "metadata": {},
   "outputs": [],
   "source": [
    "@benchmark intlog2(1_000_000)"
   ]
  },
  {
   "cell_type": "markdown",
   "metadata": {},
   "source": [
    "## Typstabilitäten erkennen mit `@code_warntype`"
   ]
  },
  {
   "cell_type": "markdown",
   "metadata": {},
   "source": [
    "Im zweiten Beispiel wird die Funktion `intlog2` mit Hilfe des Makros `@code_warntype` auf Typinstabilitäten untersucht, die anschließend behoben werden."
   ]
  },
  {
   "cell_type": "code",
   "execution_count": null,
   "metadata": {},
   "outputs": [],
   "source": [
    "@code_warntype intlog2(1_000_000)"
   ]
  },
  {
   "cell_type": "code",
   "execution_count": null,
   "metadata": {},
   "outputs": [],
   "source": [
    "function intlog2_stable(nn)\n",
    "    r = 0\n",
    "    n = Float64(nn)\n",
    "    while n > 1\n",
    "        r += 1\n",
    "        n = n/2\n",
    "    end\n",
    "    return r\n",
    "end"
   ]
  },
  {
   "cell_type": "code",
   "execution_count": null,
   "metadata": {},
   "outputs": [],
   "source": [
    "@code_warntype intlog2_stable(1_000_000)"
   ]
  },
  {
   "cell_type": "code",
   "execution_count": null,
   "metadata": {},
   "outputs": [],
   "source": [
    "@benchmark intlog2_stable(1_000_000)"
   ]
  },
  {
   "cell_type": "markdown",
   "metadata": {},
   "source": [
    "## Typinstabilität und Function Barriers"
   ]
  },
  {
   "cell_type": "markdown",
   "metadata": {},
   "source": [
    "Im dritten Beispiel geht es um die Funktion `strange_twos`, die eine nicht behebbare Typinstäbilität enthält. Durch eine sogenannte Function Barrier können wir dennoch die Laufzeit deutlich verbessern, indem wir den eigentlichen Rechenkernel in eine neue Funktion `fill_twos` auslagern."
   ]
  },
  {
   "cell_type": "code",
   "execution_count": null,
   "metadata": {},
   "outputs": [],
   "source": [
    "function strange_twos(n)\n",
    "  a = Vector{rand(Bool) ? Int : Float64}(undef, n)\n",
    "  for i in eachindex(a)\n",
    "    a[i] = 2\n",
    "  end\n",
    "  return a\n",
    "end"
   ]
  },
  {
   "cell_type": "code",
   "execution_count": null,
   "metadata": {},
   "outputs": [],
   "source": [
    "@benchmark strange_twos(10_000)"
   ]
  },
  {
   "cell_type": "code",
   "execution_count": null,
   "metadata": {},
   "outputs": [],
   "source": [
    "function strange_twos_barrier(n)\n",
    "  a = Vector{rand(Bool) ? Int : Float64}(undef, n)\n",
    "  fill_twos(a) # Loop-Kernel in neuer Funktion → Function Barrier\n",
    "  return a\n",
    "end\n",
    "\n",
    "function fill_twos(a)\n",
    "  for i in eachindex(a)\n",
    "    a[i] = 2\n",
    "  end\n",
    "end"
   ]
  },
  {
   "cell_type": "code",
   "execution_count": null,
   "metadata": {},
   "outputs": [],
   "source": [
    "@benchmark strange_twos_barrier(10_000)"
   ]
  }
 ],
 "metadata": {
  "kernelspec": {
   "display_name": "Julia 1.5.3",
   "language": "julia",
   "name": "julia-1.5"
  },
  "language_info": {
   "file_extension": ".jl",
   "mimetype": "application/julia",
   "name": "julia",
   "version": "1.5.3"
  }
 },
 "nbformat": 4,
 "nbformat_minor": 4
}
